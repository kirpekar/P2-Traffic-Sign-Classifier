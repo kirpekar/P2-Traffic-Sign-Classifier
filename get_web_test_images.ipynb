{
 "cells": [
  {
   "cell_type": "code",
   "execution_count": null,
   "metadata": {
    "collapsed": false
   },
   "outputs": [],
   "source": [
    "#This code will \n",
    "# -- Read in all the gifs\n",
    "# -- Convert them to JPG (removing transparency)\n",
    "# -- Scale them to 32x24\n",
    "# -- Pad them to 32x32\n",
    "#Padded area is 0,0,0 (black)\n",
    "\n",
    "import glob\n",
    "import numpy as np\n",
    "import math\n",
    "from PIL import Image\n",
    "\n",
    "fileList=glob.glob(\"web-images/*.gif\")\n",
    "for i in range(len(fileList)):\n",
    "    im = Image.open(fileList[i]).convert('RGB')\n",
    "    longer_side = max(im.size)\n",
    "    if longer_side % 2 != 0:\n",
    "        longer_side=longer_side+1\n",
    "    horizontal_padding = (longer_side-im.size[0])/2\n",
    "    vertical_padding = (longer_side-im.size[1])/2\n",
    "    im = im.crop((-horizontal_padding,-vertical_padding,im.size[0]+horizontal_padding,im.size[1]+vertical_padding))\n",
    "    #print(im.size)\n",
    "    im.thumbnail((32,32), Image.ANTIALIAS)\n",
    "    im.save(\"web-images/\"+str(i)+\"compressed.jpg\" , \"JPEG\")"
   ]
  },
  {
   "cell_type": "code",
   "execution_count": null,
   "metadata": {
    "collapsed": true
   },
   "outputs": [],
   "source": []
  }
 ],
 "metadata": {
  "kernelspec": {
   "display_name": "Python 3",
   "language": "python",
   "name": "python3"
  },
  "language_info": {
   "codemirror_mode": {
    "name": "ipython",
    "version": 3
   },
   "file_extension": ".py",
   "mimetype": "text/x-python",
   "name": "python",
   "nbconvert_exporter": "python",
   "pygments_lexer": "ipython3",
   "version": "3.5.2"
  }
 },
 "nbformat": 4,
 "nbformat_minor": 1
}
